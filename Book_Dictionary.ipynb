{
 "cells": [
  {
   "cell_type": "code",
   "execution_count": 10,
   "metadata": {},
   "outputs": [],
   "source": [
    "def build_book_dict(titles, pages, firsts, lasts, locations):\n",
    "    \"\"\"\n",
    "    Return a nested dictionary storing information about Books\n",
    "    \n",
    "    Positional Arguments:\n",
    "        titles -- A list of strings\n",
    "        pages -- A list of ints\n",
    "        firsts -- A list of strings\n",
    "        lasts -- A list of strings\n",
    "        locations -- A list of strings\n",
    "    \n",
    "    \"\"\"\n",
    "    x = 0\n",
    "    dict={}\n",
    "    while x <= len(titles)-1:\n",
    "        dict[titles[x]] = {\"Publisher\": {\"Location\": locations[x] }, \"Author\": {\"Last\": lasts[x], \"First\": firsts[x]}, \"Pages\":pages[x]}\n",
    "        x += 1\n",
    "    return dict"
   ]
  },
  {
   "cell_type": "code",
   "execution_count": 11,
   "metadata": {},
   "outputs": [],
   "source": [
    "titles = [\"Bringing Nature Home\", \"The Gene\"]\n",
    "pages = [358, 350]\n",
    "firsts = [\"Douglas W.\", \"Siddhartha\"]\n",
    "lasts = [\"Tallamy\", \"Mukherjee\"]\n",
    "locations = [\"New York City\", \"Boston\"]"
   ]
  },
  {
   "cell_type": "code",
   "execution_count": 12,
   "metadata": {},
   "outputs": [],
   "source": [
    "book_dict = build_book_dict(titles, pages, firsts, lasts, locations)"
   ]
  },
  {
   "cell_type": "code",
   "execution_count": 13,
   "metadata": {},
   "outputs": [
    {
     "name": "stdout",
     "output_type": "stream",
     "text": [
      "{'Bringing Nature Home': {'Publisher': {'Location': 'New York City'}, 'Author': {'Last': 'Tallamy', 'First': 'Douglas W.'}, 'Pages': 358}, 'The Gene': {'Publisher': {'Location': 'Boston'}, 'Author': {'Last': 'Mukherjee', 'First': 'Siddhartha'}, 'Pages': 350}}\n"
     ]
    }
   ],
   "source": [
    "print(book_dict)"
   ]
  },
  {
   "cell_type": "code",
   "execution_count": null,
   "metadata": {},
   "outputs": [],
   "source": []
  }
 ],
 "metadata": {
  "kernelspec": {
   "display_name": "Python 3",
   "language": "python",
   "name": "python3"
  },
  "language_info": {
   "codemirror_mode": {
    "name": "ipython",
    "version": 3
   },
   "file_extension": ".py",
   "mimetype": "text/x-python",
   "name": "python",
   "nbconvert_exporter": "python",
   "pygments_lexer": "ipython3",
   "version": "3.6.5"
  }
 },
 "nbformat": 4,
 "nbformat_minor": 2
}
