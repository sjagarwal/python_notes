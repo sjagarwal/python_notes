{
 "cells": [
  {
   "cell_type": "code",
   "execution_count": 1,
   "metadata": {},
   "outputs": [],
   "source": [
    "### Code a function called \"apply_functions\"\n",
    "\n",
    "### ACCEPT two lists as inputs:\n",
    "### The first list will be a list of iterables\n",
    "### The second list will be some subset of the functions <len>, <sum>, and <type>\n",
    "\n",
    "### RETURN a list of the same length as the first list, where every element in that list\n",
    "### is a *tuple* which has had the functions from the second list applied on them.\n",
    "\n",
    "### e.g. if the lists are [(1,2),[3,4]], and [len, sum, type] The return should be:\n",
    "### [(2,3,tuple),(2,7,list)].\n",
    "### The tuples are in the order of (length, sum, type); the same order as the passed functions\n",
    "\n",
    "\n",
    "\n",
    "def apply_functions(list_of_objs, list_of_funcs):\n",
    "    \"\"\"\n",
    "    Return a list where all the functions in the second argument\n",
    "    have been applied to the elements of the first argument\n",
    "    \n",
    "    Positional Arguments:\n",
    "    list_of_objs -- A list of objects (lists and/ or tuples)\n",
    "    list_of_funcs -- A list of functions that may be applied to the\n",
    "        objects of the first argument\n",
    "        \n",
    "    Example:\n",
    "        objs = [(1,2),[1,3,4,5,6,7],[0]]\n",
    "        funcs = [len,sum]\n",
    "        print(apply_functions(objs, funcs))\n",
    "        #--> [(2, 3), (6, 26), (1, 0)]\n",
    "    \"\"\"\n",
    "    i=0\n",
    "    out_list = []\n",
    "    while i <= len(list_of_objs)-1:\n",
    "        k=[]\n",
    "        j=0\n",
    "        while j <= len(list_of_funcs)-1:\n",
    "            k.append(list_of_funcs[j](list_of_objs[i]))\n",
    "            j += 1\n",
    "        out_list.append(tuple(k))\n",
    "        i += 1\n",
    "    return(out_list)"
   ]
  },
  {
   "cell_type": "code",
   "execution_count": 2,
   "metadata": {},
   "outputs": [
    {
     "name": "stdout",
     "output_type": "stream",
     "text": [
      "[(2, 3), (6, 26), (1, 0)]\n"
     ]
    }
   ],
   "source": [
    "objs = [(1,2),[1,3,4,5,6,7],[0]]\n",
    "funcs = [len,sum]\n",
    "print(apply_functions(objs, funcs))"
   ]
  },
  {
   "cell_type": "code",
   "execution_count": 3,
   "metadata": {},
   "outputs": [
    {
     "name": "stdout",
     "output_type": "stream",
     "text": [
      "[(2, 3, <class 'tuple'>), (6, 26, <class 'list'>), (1, 0, <class 'list'>)]\n"
     ]
    }
   ],
   "source": [
    "objs = [(1,2),[1,3,4,5,6,7],[0]]\n",
    "funcs = [len,sum,type]\n",
    "print(apply_functions(objs, funcs))"
   ]
  },
  {
   "cell_type": "code",
   "execution_count": null,
   "metadata": {},
   "outputs": [],
   "source": []
  }
 ],
 "metadata": {
  "kernelspec": {
   "display_name": "Python 3",
   "language": "python",
   "name": "python3"
  },
  "language_info": {
   "codemirror_mode": {
    "name": "ipython",
    "version": 3
   },
   "file_extension": ".py",
   "mimetype": "text/x-python",
   "name": "python",
   "nbconvert_exporter": "python",
   "pygments_lexer": "ipython3",
   "version": "3.6.5"
  }
 },
 "nbformat": 4,
 "nbformat_minor": 2
}
